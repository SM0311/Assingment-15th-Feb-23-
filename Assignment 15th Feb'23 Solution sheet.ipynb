{
 "cells": [
  {
   "cell_type": "markdown",
   "id": "c19cc7f3-af65-4710-bd69-73ec7c2b70ef",
   "metadata": {},
   "source": [
    "Q1. What is multiprocessing in python? Why is it useful?"
   ]
  },
  {
   "cell_type": "markdown",
   "id": "f76e1ae7-1570-4be8-9999-fff46144cee7",
   "metadata": {},
   "source": [
    "Answer 1. Multiprocessing in Python refers to the ability to run multiple processes or threads simultaneously using the multiprocessing module in Python's standard library. Each process or thread runs independently of the others and has its own memory space, allowing for parallel processing of tasks.\n",
    "\n",
    "Multiprocessing is useful in situations where a program needs to perform tasks that are CPU-bound or IO-bound, such as data processing, numerical simulations, or web scraping. By using multiprocessing, the program can take advantage of the multiple cores or processors available on a computer, which can significantly speed up the execution time of these tasks.\n",
    "\n",
    "In addition to improving performance, multiprocessing also helps to ensure the stability of a program. By separating tasks into multiple processes, errors or crashes in one process will not affect the others, which can make a program more robust and fault-tolerant.\n",
    "\n",
    "Overall, multiprocessing is a powerful tool that can help developers write more efficient and reliable Python programs, especially when dealing with computationally intensive tasks or large datasets."
   ]
  },
  {
   "cell_type": "markdown",
   "id": "d72b73d5-601d-4292-9f11-cb0609778e09",
   "metadata": {},
   "source": [
    "Q2. What are the differences between multiprocessing and multithreading?"
   ]
  },
  {
   "cell_type": "markdown",
   "id": "e8f40d14-93fc-4836-9f61-20984946a716",
   "metadata": {},
   "source": [
    "Answer 2. Multiprocessing and multithreading are both techniques used to achieve parallelism in a program, but they differ in the way they create and manage multiple threads of execution.\n",
    "\n",
    "The key difference between multiprocessing and multithreading is that multiprocessing creates multiple independent processes, each with its own memory space, while multithreading creates multiple threads within a single process, sharing the same memory space.\n",
    "\n",
    "Here are some of the main differences between multiprocessing and multithreading:\n",
    "\n",
    "1. Memory management: In multiprocessing, each process has its own memory space, so there is no need to worry about thread safety or shared memory issues. In multithreading, threads share the same memory space, which can lead to problems such as race conditions, deadlocks, and data corruption.\n",
    "\n",
    "2. Parallelism: Multiprocessing can achieve true parallelism, as each process can run on a separate CPU or core, while multithreading can only achieve concurrent execution, as all threads run within the same process.\n",
    "\n",
    "3. Overhead: Multiprocessing has a higher overhead compared to multithreading, as creating and managing multiple processes incurs more system resources than creating and managing multiple threads.\n",
    "\n",
    "4. Communication: Communication between processes in multiprocessing is typically done using inter-process communication (IPC) mechanisms such as pipes, queues, and shared memory. In multithreading, communication between threads is done using shared variables or message passing mechanisms.\n",
    "\n",
    "In nutshell, the choice between multiprocessing and multithreading depends on the specific requirements of a program. If the program needs to perform CPU-intensive tasks and does not require shared memory between threads, then multiprocessing may be the better choice. If the program needs to perform IO-bound tasks and requires shared memory between threads, then multithreading may be more suitable."
   ]
  },
  {
   "cell_type": "markdown",
   "id": "ffca8e75-a870-43cc-8cf1-960424e0fd3d",
   "metadata": {},
   "source": [
    "Q3. Write a python code to create a process using the multiprocessing module."
   ]
  },
  {
   "cell_type": "code",
   "execution_count": 1,
   "id": "badfe630-2a39-4c9e-904b-b0119f6988cc",
   "metadata": {},
   "outputs": [
    {
     "name": "stdout",
     "output_type": "stream",
     "text": [
      "this is my main prod\n",
      "this is my multiprocessing program\n"
     ]
    }
   ],
   "source": [
    "import multiprocessing\n",
    "\n",
    "def test():\n",
    "    print(\"this is my multiprocessing program\") \n",
    "    \n",
    "if __name__ == \"__main__\":\n",
    "    m = multiprocessing.Process(target=test)\n",
    "    print(\"this is my main prod\")\n",
    "    m.start()\n",
    "    m.join()"
   ]
  },
  {
   "cell_type": "markdown",
   "id": "13fed04f-7991-4d7b-af24-444ccee2f572",
   "metadata": {},
   "source": [
    "In the above code, a function is defined called \"test\" that will be run in a separate process. Then , I created a new process using the \"process\" class and pass in the 'target' argument as the 'test' function. Finally, the process started using 'start()' method and wait for it to finish using the 'join()' method.\n",
    "\n",
    "Note that the 'if__name__=='__main__:'' statement to ensure that the code inside is only executed if the script is run  directly, rather than being imported by another module. "
   ]
  },
  {
   "cell_type": "markdown",
   "id": "c6d7d6ce-3ce4-45a2-b688-203335fcddd9",
   "metadata": {},
   "source": [
    "Q4. What is a multiprocessing pool in python? Why is it used?"
   ]
  },
  {
   "cell_type": "markdown",
   "id": "579cbc42-f450-4ffb-a8b1-0d7494ca713c",
   "metadata": {},
   "source": [
    "Answer 4.\n",
    "\n",
    "A multiprocessing pool in Python is a collection of worker processes that can be used to parallelize the execution of a function across multiple inputs. The multiprocessing module provides the Pool class, which is used to create and manage a pool of worker processes.\n",
    "\n",
    "The Pool class provides several methods for executing functions in parallel across a set of inputs. These methods include map(), imap(), map_async(), imap_unordered(), and apply_async(). Each of these methods takes a function and a set of inputs, and distributes the inputs across the worker processes in the pool to execute the function in parallel.\n",
    "\n",
    "Multiprocessing pools are useful in situations where a program needs to perform the same operation on a large set of inputs, such as processing a large dataset or performing a Monte Carlo simulation. By distributing the workload across multiple processes, the program can take advantage of the multiple cores or processors available on a computer, which can significantly speed up the execution time of the operation.\n",
    "\n",
    "In addition to improving performance, multiprocessing pools also help to ensure the stability of a program. By separating the workload into multiple processes, errors or crashes in one process will not affect the others, which can make a program more robust and fault-tolerant.\n",
    "\n",
    "Overall, multiprocessing pools are a powerful tool for parallelizing the execution of functions in Python, and can help to significantly improve the performance and reliability of programs that need to process large amounts of data or perform complex computations."
   ]
  },
  {
   "cell_type": "markdown",
   "id": "48270dd3-1f36-4e08-9a13-c1de365ebd50",
   "metadata": {},
   "source": [
    "Q5. How can we create a pool of worker processes in python using the multiprocessing module?"
   ]
  },
  {
   "cell_type": "code",
   "execution_count": 4,
   "id": "6eb05f19-372e-4cc2-91d0-f568d39b4d0a",
   "metadata": {},
   "outputs": [
    {
     "name": "stdout",
     "output_type": "stream",
     "text": [
      "Worker 1 process startedWorker 3 process startedWorker 2 process startedWorker 4 process started\n",
      "\n",
      "\n",
      "\n",
      "Worker 1 process finishedWorker 2 process finishedWorker 4 process finishedWorker 3 process finished\n",
      "\n",
      "\n",
      "\n",
      "Worker 5 process started\n",
      "Worker 5 process finished\n",
      "Main process finished\n"
     ]
    }
   ],
   "source": [
    "import multiprocessing\n",
    "\n",
    "def worker(num):\n",
    "    print(f'Worker {num} process started')\n",
    "    print(f'Worker {num} process finished')\n",
    "\n",
    "if __name__ == '__main__':\n",
    "    \n",
    "    pool = multiprocessing.Pool(processes=4)\n",
    "    inputs = [1, 2, 3, 4, 5]\n",
    "    pool.map(worker, inputs)\n",
    "    pool.close()\n",
    "    pool.join()\n",
    "    print('Main process finished')\n"
   ]
  },
  {
   "cell_type": "markdown",
   "id": "ffc83cc3-058f-4ec4-8334-5f353b681ae0",
   "metadata": {},
   "source": [
    "Q6. Write a python program to create 4 processes, each process should print a different number using the multiprocessing module in python."
   ]
  },
  {
   "cell_type": "code",
   "execution_count": 1,
   "id": "91fb96a1-6daf-4733-b466-fe6bb51ab4a7",
   "metadata": {},
   "outputs": [
    {
     "name": "stdout",
     "output_type": "stream",
     "text": [
      "Process1 started\n",
      "This is the process number1Process2 startedProcess1 finished\n",
      "\n",
      "This is the process number2\n",
      "Process3 started\n",
      "Process2 finished\n",
      "\n",
      "This is the process number3\n",
      "Process3 finished\n",
      "Main process finished\n"
     ]
    }
   ],
   "source": [
    "import multiprocessing\n",
    "\n",
    "def worker(num):\n",
    "    print(f'Process{num} started')\n",
    "    print(f'This is the process number{num}')\n",
    "    print(f'Process{num} finished')\n",
    "    \n",
    "if __name__=='__main__':\n",
    "    processes = []\n",
    "    for i in range(1,4):\n",
    "        p = multiprocessing.Process(target = worker, args=(i,))\n",
    "        processes.append(p)\n",
    "        \n",
    "    for p in processes :\n",
    "        p.start()\n",
    "        \n",
    "    for p in processes :\n",
    "        p.join()\n",
    "        \n",
    "    print(\"Main process finished\")\n",
    "        "
   ]
  },
  {
   "cell_type": "code",
   "execution_count": null,
   "id": "0554820c-cc3c-4de8-b7fd-2a7a75f23da6",
   "metadata": {},
   "outputs": [],
   "source": []
  }
 ],
 "metadata": {
  "kernelspec": {
   "display_name": "Python 3 (ipykernel)",
   "language": "python",
   "name": "python3"
  },
  "language_info": {
   "codemirror_mode": {
    "name": "ipython",
    "version": 3
   },
   "file_extension": ".py",
   "mimetype": "text/x-python",
   "name": "python",
   "nbconvert_exporter": "python",
   "pygments_lexer": "ipython3",
   "version": "3.10.8"
  }
 },
 "nbformat": 4,
 "nbformat_minor": 5
}
